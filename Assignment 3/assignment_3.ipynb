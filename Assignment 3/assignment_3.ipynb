{
 "cells": [
  {
   "cell_type": "code",
   "execution_count": 2,
   "metadata": {},
   "outputs": [],
   "source": [
    "import numpy as np\n",
    "import random as rm\n",
    "import pandas as pd\n",
    "import matplotlib.pyplot as plt\n",
    "from scipy.integrate import odeint"
   ]
  },
  {
   "cell_type": "code",
   "execution_count": 3,
   "metadata": {},
   "outputs": [
    {
     "name": "stdout",
     "output_type": "stream",
     "text": [
      "[[0.51724889 0.06896702 0.41378409]]\n"
     ]
    },
    {
     "data": {
      "image/png": "[encoded data removed]",
      "text/plain": "<Figure size 432x288 with 1 Axes>"
     },
     "metadata": {
      "needs_background": "light"
     },
     "output_type": "display_data"
    }
   ],
   "source": [
    "states = ['Susceptible', 'Infected', 'Recovered']\n",
    "\n",
    "\"\"\"\n",
    "as there are three possible states, the transition matrix will be 3x3\n",
    "\"\"\"\n",
    "\n",
    "transition_name = [['SS', 'SI', 'SR'],\n",
    "                   ['IS', 'II', 'IR'],\n",
    "                   ['RS', 'RI', 'RR']]\n",
    "\n",
    "transition_matrix = np.array([[0.92, 0.08, 0],\n",
    "                             [0.0, 0.4, 0.6],\n",
    "                             [0.1, 0.0, 0.9]])\n",
    "\n",
    "state = np.array([[1.0, 0.0, 0.0]]) # initialise state 0\n",
    "stateHist = state # set historial state to current state to confirm markov assumption\n",
    "dfStateHist = pd.DataFrame(state)\n",
    "distr_hist = [[0,0,0]]\n",
    "\n",
    "for x in range(50):\n",
    "  state=np.dot(state, transition_matrix) # dot product betweeb initial state and transition matrix; 50 simulations\n",
    "  stateHist=np.append(stateHist,state,axis=0)\n",
    "  dfDistrHist = pd.DataFrame(stateHist)\n",
    "\n",
    "print(state)  \n",
    "dfDistrHist.plot()\n",
    "plt.show()"
   ]
  },
  {
   "cell_type": "markdown",
   "metadata": {},
   "source": [
    "Final states after 50 simulations: [[0.55557736 0.06349542 0.38092722]]\n",
    "\n",
    "Final states after 1000 simulations: [[0.55555556 0.06349206 0.38095238]]\n"
   ]
  },
  {
   "cell_type": "code",
   "execution_count": 17,
   "metadata": {},
   "outputs": [
    {
     "name": "stdout",
     "output_type": "stream",
     "text": [
      "t_n: [[0.51724138 0.06896552 0.4137931 ]\n",
      " [0.51724138 0.06896552 0.4137931 ]\n",
      " [0.51724138 0.06896552 0.4137931 ]]\n",
      "pi: [0.51724138 0.06896552 0.4137931 ]\n"
     ]
    }
   ],
   "source": [
    "# Transition matrix multiplied by itself for 1000 simulations\n",
    "\n",
    "steps = 10**3\n",
    "\n",
    "t_n = transition_matrix\n",
    "\n",
    "i = 0\n",
    "while i<steps:\n",
    "    t_n = np.matmul(t_n, transition_matrix) # multiply transition matrix by itself\n",
    "    i += 1\n",
    "print(f\"t_n: {t_n}\")\n",
    "print(f\"pi: {t_n[0]}\") # steady state probabiities"
   ]
  },
  {
   "cell_type": "code",
   "execution_count": 22,
   "metadata": {},
   "outputs": [
    {
     "name": "stdout",
     "output_type": "stream",
     "text": [
      "left eigen vectors = [[-0.77667056 -0.63500064 -0.15430335]\n",
      " [-0.10355607 -0.12700013 -0.6172134 ]\n",
      " [-0.62133645  0.76200076  0.77151675]]\n",
      "eigen values = [1.  +0.j 0.8 +0.j 0.42+0.j]\n"
     ]
    }
   ],
   "source": [
    "# Find steady states by finding left eigenvalues\n",
    "import scipy.linalg\n",
    "\n",
    "\n",
    "values, left = scipy.linalg.eig(transition_matrix, right = False, left = True)\n",
    "\n",
    "print(f\"left eigen vectors = {left}\")\n",
    "print(f\"eigen values = {values}\")"
   ]
  },
  {
   "cell_type": "code",
   "execution_count": 23,
   "metadata": {},
   "outputs": [
    {
     "data": {
      "text/plain": "[0.517241379310345, 0.06896551724137923, 0.41379310344827575]"
     },
     "execution_count": 23,
     "metadata": {},
     "output_type": "execute_result"
    }
   ],
   "source": [
    "pi = left[:,0] # left eigen vectors\n",
    "pi_normalized = [(x/np.sum(pi)).real for x in pi]\n",
    "pi_normalized"
   ]
  },
  {
   "cell_type": "code",
   "execution_count": 29,
   "metadata": {},
   "outputs": [
    {
     "name": "stdout",
     "output_type": "stream",
     "text": [
      "[0.51724138 0.06896552 0.4137931 ]\n"
     ]
    }
   ],
   "source": [
    "# imported module, whereby you can alter the method to calculate steady states\n",
    "mc = markovChain(transition_matrix)\n",
    "mc.computePi('linear') #We can also use 'power', 'krylov' or 'eigen'\n",
    "print(mc.pi)"
   ]
  }
 ],
 "metadata": {
  "kernelspec": {
   "display_name": "Python 3.8.8 64-bit ('base': conda)",
   "metadata": {
    "interpreter": {
     "hash": "bfb94dfa318c965b92ceb5de81b48e332ad70f7d883c83fc39503491d4dd5ec1"
    }
   },
   "name": "python3"
  },
  "language_info": {
   "codemirror_mode": {
    "name": "ipython",
    "version": 3
   },
   "file_extension": ".py",
   "mimetype": "text/x-python",
   "name": "python",
   "nbconvert_exporter": "python",
   "pygments_lexer": "ipython3",
   "version": "3.8.8"
  },
  "orig_nbformat": 2
 },
 "nbformat": 4,
 "nbformat_minor": 2
}