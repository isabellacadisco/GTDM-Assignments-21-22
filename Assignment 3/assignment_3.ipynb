{
 "cells": [
  {
   "cell_type": "code",
   "execution_count": 1,
   "metadata": {},
   "outputs": [],
   "source": [
    "import numpy as np\n",
    "import random as rm\n",
    "import pandas as pd\n",
    "import matplotlib.pyplot as plt\n",
    "from scipy.integrate import odeint"
   ]
  },
  {
   "cell_type": "code",
   "execution_count": 23,
   "metadata": {},
   "outputs": [
    {
     "name": "stdout",
     "output_type": "stream",
     "text": [
      "[[0.55555556 0.06349206 0.38095238]]\n"
     ]
    },
    {
     "data": {
      "image/png": "[encoded data removed]",
      "text/plain": "<Figure size 432x288 with 1 Axes>"
     },
     "metadata": {
      "needs_background": "light"
     },
     "output_type": "display_data"
    }
   ],
   "source": [
    "states = ['Susceptible', 'Infected', 'Recovered']\n",
    "\n",
    "\"\"\"\n",
    "as there are three possible states, the transition matrix will be 3x3\n",
    "\"\"\"\n",
    "\n",
    "transition_name = [['SS', 'SI', 'SR'],\n",
    "                   ['IS', 'II', 'IR'],\n",
    "                   ['RS', 'RI', 'RR']]\n",
    "\n",
    "transition_matrix = np.array([[0.92, 0.08, 0],\n",
    "                             [0.1, 0.3, 0.6],\n",
    "                             [0.1, 0.0, 0.9]])\n",
    "\n",
    "state = np.array([[1.0, 0.0, 0.0]]) # initialise state 0\n",
    "stateHist = state # set historial state to current state to confirm markov assumption\n",
    "dfStateHist = pd.DataFrame(state)\n",
    "distr_hist = [[0,0,0]]\n",
    "\n",
    "for x in range(1000):\n",
    "  state=np.dot(state, transition_matrix)\n",
    "  stateHist=np.append(stateHist,state,axis=0)\n",
    "  dfDistrHist = pd.DataFrame(stateHist)\n",
    "\n",
    "print(state)  \n",
    "dfDistrHist.plot()\n",
    "plt.show()"
   ]
  },
  {
   "cell_type": "code",
   "execution_count": 19,
   "metadata": {},
   "outputs": [
    {
     "data": {
      "text/plain": "array([0.55555556, 0.06349206, 0.38095238])"
     },
     "execution_count": 19,
     "metadata": {},
     "output_type": "execute_result"
    }
   ],
   "source": [
    "A = np.append(np.transpose(transition_matrix) - np.identity(3), [[1,1,1]], axis=0)\n",
    "b = np.transpose(np.array([0,0,0,1]))\n",
    "np.linalg.solve(np.transpose(A).dot(A), np.transpose(A).dot(b))"
   ]
  },
  {
   "cell_type": "markdown",
   "metadata": {},
   "source": [
    "Final states after 50 simulations: [[0.55557736 0.06349542 0.38092722]]\n",
    "\n",
    "Final states after 1000 simulations: [[0.55555556 0.06349206 0.38095238]]\n"
   ]
  }
 ],
 "metadata": {
  "kernelspec": {
   "display_name": "Python 3.8.8 64-bit ('base': conda)",
   "metadata": {
    "interpreter": {
     "hash": "bfb94dfa318c965b92ceb5de81b48e332ad70f7d883c83fc39503491d4dd5ec1"
    }
   },
   "name": "python3"
  },
  "language_info": {
   "codemirror_mode": {
    "name": "ipython",
    "version": 3
   },
   "file_extension": ".py",
   "mimetype": "text/x-python",
   "name": "python",
   "nbconvert_exporter": "python",
   "pygments_lexer": "ipython3",
   "version": "3.8.8"
  },
  "orig_nbformat": 2
 },
 "nbformat": 4,
 "nbformat_minor": 2
}